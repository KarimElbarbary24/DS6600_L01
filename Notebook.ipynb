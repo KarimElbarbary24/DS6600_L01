{
 "cells": [
  {
   "cell_type": "markdown",
   "id": "d2654a08",
   "metadata": {},
   "source": [
    "GitHub repo URL: https://github.com/KarimElbarbary24/DS6600_L01"
   ]
  },
  {
   "cell_type": "markdown",
   "id": "bc8b1427",
   "metadata": {},
   "source": [
    "Question 2"
   ]
  },
  {
   "cell_type": "code",
   "execution_count": null,
   "id": "01863873-a025-474b-91eb-ff32f6f3a786",
   "metadata": {},
   "outputs": [],
   "source": [
    "[[source]]\n",
    "url = \"https://pypi.org/simple\"\n",
    "verify_ssl = true\n",
    "name = \"pypi\"\n",
    "\n",
    "[packages]\n",
    "numpy = \"==1.25.2\"\n",
    "pandas = \"==2.0.3\"\n",
    "matplotlib = \"==3.7.2\"\n",
    "requests = \"==2.31.0\"\n",
    "jupyterlab = \"==4.0.5\"\n",
    "ipykernel = \"==6.25.1\"\n",
    "\n",
    "[dev-packages]\n",
    "\n",
    "[requires]\n",
    "python_version = \"3.11\"\n",
    "python_full_version = \"3.11.4\"\n"
   ]
  },
  {
   "cell_type": "code",
   "execution_count": 1,
   "id": "37d080a8-0885-47ab-ac8a-46a08591d047",
   "metadata": {},
   "outputs": [
    {
     "name": "stdout",
     "output_type": "stream",
     "text": [
      "Python 3.11.4\n"
     ]
    }
   ],
   "source": [
    "!python --version"
   ]
  },
  {
   "cell_type": "code",
   "execution_count": 3,
   "id": "02dcdbf4-4bf3-4576-acf1-7a1bf24842aa",
   "metadata": {},
   "outputs": [],
   "source": [
    "import numpy as np\n",
    "import pandas as pd\n",
    "import matplotlib\n",
    "import requests\n"
   ]
  },
  {
   "cell_type": "code",
   "execution_count": 4,
   "id": "b3867d6c",
   "metadata": {},
   "outputs": [
    {
     "ename": "ModuleNotFoundError",
     "evalue": "No module named 'sklearn'",
     "output_type": "error",
     "traceback": [
      "\u001b[0;31m---------------------------------------------------------------------------\u001b[0m",
      "\u001b[0;31mModuleNotFoundError\u001b[0m                       Traceback (most recent call last)",
      "Cell \u001b[0;32mIn[4], line 1\u001b[0m\n\u001b[0;32m----> 1\u001b[0m \u001b[38;5;28;01mimport\u001b[39;00m \u001b[38;5;21;01msklearn\u001b[39;00m\n",
      "\u001b[0;31mModuleNotFoundError\u001b[0m: No module named 'sklearn'"
     ]
    }
   ],
   "source": [
    "import sklearn"
   ]
  },
  {
   "cell_type": "markdown",
   "id": "95dbf859",
   "metadata": {},
   "source": [
    "Question 3"
   ]
  },
  {
   "cell_type": "markdown",
   "id": "22bce6a3",
   "metadata": {},
   "source": [
    "3. \n",
    "\n",
    "(a) Containers would probably work best in this situation. This is because containers offer a very portable and scalable solution to this problem. Each chapter can simply download the container image, ultimately enabling the containerized application to run in the same manner on all operating systems without any dependencies issues. Comtainers also allow vor various network configurations in addiiton to provding cloud solutions which fit the needs of each chapter. VMs would be an overkill since each VMs run their own operating system, making building a VM for each chapter unscalable and resource-inefficient. Virtual environments are not a sufficient solution to this problem since they typically are used to provide a level of isolation compatible with a specific programming language (e.g., python). This makes them practically incapable of handling the full application stack for each chapter. Finally, a global environment would probably run into dependecy issues so it is also not generally recommended for this kind of application.\n",
    "\n",
    "(b) Virtual environments would be the best solution for this task. This is because they offer just the right amount of isolation needed to accomplish this task. Since all that needed are the results, there is no need to use something like a container that would enable others to containerize the entire application. Additionally, VMs would also be an overkill since there is no need to run an entirely new OS to run an application that would run just fine on my own machine provided the correct level of isolation is provided. Global environments would probably run into dependency issues so, again, I would not recommend this solution for this task. \n",
    "\n",
    "(c) VMs would be the best solution for this since th application requires the existence of a seperate operating system that might be different from the OS I am running on my local machine. Every other solution does not work due to the fact that they all share the local machine's system kernel.\n",
    "\n",
    "(d) Virtual environments would be just fine for this situation. By using a virtual environment, I can experiment with the Swedish version of Python outside my environment without having the new version conflicting with my older version that is running inside my environement. Containers and VMs could also accomplish a similar functionality but it is an overkill to accept the overhead that comes with both solutions. Global environments would not work since the Swedish version would conflict or even overwrite my older version of Python"
   ]
  },
  {
   "cell_type": "markdown",
   "id": "f35ce5e3",
   "metadata": {},
   "source": [
    "Question 4"
   ]
  },
  {
   "cell_type": "markdown",
   "id": "60706546",
   "metadata": {},
   "source": [
    "Dockerfile:"
   ]
  },
  {
   "cell_type": "markdown",
   "id": "181951fa",
   "metadata": {},
   "source": [
    "Dockerfile: # syntax=docker/dockerfile:1\n",
    "\n",
    "FROM ubuntu:latest\n",
    "\n",
    "# Set the working directory to /DS6600_L01\n",
    "WORKDIR /DS6600_L01\n",
    "\n",
    "RUN apt-get update && apt-get install -y python3\n",
    "\n"
   ]
  },
  {
   "cell_type": "markdown",
   "id": "bc8e14ae",
   "metadata": {},
   "source": [
    "Proof of docker image successful building"
   ]
  },
  {
   "cell_type": "markdown",
   "id": "3b245a49",
   "metadata": {},
   "source": [
    "Proof: [+] Building 2.1s (10/10) FINISHED                                                                           docker:desktop-linux\n",
    " => [internal] load build definition from Dockerfile                                                                         0.0s\n",
    " => => transferring dockerfile: 320B                                                                                         0.0s\n",
    " => [internal] load .dockerignore                                                                                            0.0s\n",
    " => => transferring context: 2B                                                                                              0.0s\n",
    " => resolve image config for docker.io/docker/dockerfile:1                                                                   1.5s\n",
    " => [auth] docker/dockerfile:pull token for registry-1.docker.io                                                             0.0s\n",
    " => CACHED docker-image://docker.io/docker/dockerfile:1@sha256:865e5dd094beca432e8c0a1d5e1c465db5f998dca4e439981029b3b81fb3  0.0s\n",
    " => [internal] load metadata for docker.io/library/ubuntu:latest                                                             0.2s\n",
    " => [auth] library/ubuntu:pull token for registry-1.docker.io                                                                0.0s\n",
    " => [1/2] FROM docker.io/library/ubuntu:latest@sha256:dfc10878be8d8fc9c61cbff33166cb1d1fe44391539243703c72766894fa834a       0.0s\n",
    " => CACHED [2/2] RUN apt-get update && apt-get install -y python3                                                            0.0s\n",
    " => exporting to image                                                                                                       0.0s\n",
    " => => exporting layers                                                                                                      0.0s\n",
    " => => writing image sha256:59382a04b31ac555f7af5ef7dd93bd7a4f2ba88d42410451e9fb02c1e6a9464e                                 0.0s\n",
    " => => naming to docker.io/library/lab1_docker      "
   ]
  },
  {
   "cell_type": "markdown",
   "id": "ba78dd24",
   "metadata": {},
   "source": [
    "Output after running the image:"
   ]
  },
  {
   "cell_type": "markdown",
   "id": "455f657b",
   "metadata": {},
   "source": [
    "(DS6600_L01) karimelbarbary@Karims-MacBook-Pro-2 DS6600_L01 % docker build . -it lab1_docker     \n",
    "unknown shorthand flag: 'i' in -it\n",
    "See 'docker buildx build --help'.\n",
    "(DS6600_L01) karimelbarbary@Karims-MacBook-Pro-2 DS6600_L01 % docker run -it lab1_docker \n",
    "Python 3.12.3 (main, Sep 11 2024, 14:17:37) [GCC 13.2.0] on linux\n",
    "Type \"help\", \"copyright\", \"credits\" or \"license\" for more information.\n",
    ">>> "
   ]
  },
  {
   "cell_type": "markdown",
   "id": "a481961e",
   "metadata": {},
   "source": [
    "Sacred text:\n",
    "    After the Creation, the cruel god Moloch rebelled\n",
    "    against the authority of Marduk the Creator.\n",
    "    Moloch stole from Marduk the most powerful of all\n",
    "    the artifacts of the gods, the Amulet of Yendor,\n",
    "    and he hid it in the dark cavities of Gehennom, the\n",
    "    Under World, where he now lurks, and bides his time."
   ]
  }
 ],
 "metadata": {
  "kernelspec": {
   "display_name": "Python 3 (ipykernel)",
   "language": "python",
   "name": "python3"
  },
  "language_info": {
   "codemirror_mode": {
    "name": "ipython",
    "version": 3
   },
   "file_extension": ".py",
   "mimetype": "text/x-python",
   "name": "python",
   "nbconvert_exporter": "python",
   "pygments_lexer": "ipython3",
   "version": "3.11.4"
  }
 },
 "nbformat": 4,
 "nbformat_minor": 5
}
